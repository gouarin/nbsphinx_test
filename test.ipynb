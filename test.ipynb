{
 "cells": [
  {
   "cell_type": "markdown",
   "metadata": {},
   "source": [
    "# nbsphinx test with newcommand\n",
    "\n",
    "$$\n",
    "\\newcommand{\\dt}{\\partial_t}\n",
    "\\newcommand{\\dxx}{\\partial_{xx}}\n",
    "$$\n",
    "\n",
    "We want to solve the heat equation\n",
    "\n",
    "$$\n",
    "\\dt u + \\dxx u = 0\n",
    "$$"
   ]
  },
  {
   "cell_type": "markdown",
   "metadata": {},
   "source": [
    "Is it work in an another markdown cell ?\n",
    "\n",
    "$$\n",
    "\\dt u + \\dxx u = 0\n",
    "$$"
   ]
  },
  {
   "cell_type": "code",
   "execution_count": null,
   "metadata": {
    "collapsed": true
   },
   "outputs": [],
   "source": []
  }
 ],
 "metadata": {
  "anaconda-cloud": {},
  "kernelspec": {
   "display_name": "Python [default]",
   "language": "python",
   "name": "python3"
  },
  "language_info": {
   "codemirror_mode": {
    "name": "ipython",
    "version": 3
   },
   "file_extension": ".py",
   "mimetype": "text/x-python",
   "name": "python",
   "nbconvert_exporter": "python",
   "pygments_lexer": "ipython3",
   "version": "3.5.3"
  }
 },
 "nbformat": 4,
 "nbformat_minor": 2
}
